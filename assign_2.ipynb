{
 "cells": [
  {
   "cell_type": "code",
   "execution_count": 22,
   "id": "11050c56",
   "metadata": {},
   "outputs": [
    {
     "name": "stdout",
     "output_type": "stream",
     "text": [
      "(18361, 24)\n",
      "(18355, 3)\n"
     ]
    }
   ],
   "source": [
    "import pandas as pd\n",
    "import numpy as np\n",
    "from datetime import datetime\n",
    "from sklearn.preprocessing import MinMaxScaler, StandardScaler, OneHotEncoder, KBinsDiscretizer\n",
    "from sklearn.metrics.pairwise import cosine_similarity\n",
    "\n",
    "df = pd.read_csv(r\"C:\\Users\\Divyansh Sharma\\OneDrive\\Desktop\\5th sem\\ML_LAB_WORK\\Assignments_Solutions\\Assign_2_CSV\\AWCustomers.csv\")\n",
    "sales_df = pd.read_csv(r\"C:\\Users\\Divyansh Sharma\\OneDrive\\Desktop\\5th sem\\ML_LAB_WORK\\Assignments_Solutions\\Assign_2_CSV\\AWSales.csv\")\n",
    "print(df.shape)\n",
    "print(sales_df.shape)"
   ]
  },
  {
   "cell_type": "code",
   "execution_count": 23,
   "id": "0a205fbd",
   "metadata": {},
   "outputs": [
    {
     "name": "stdout",
     "output_type": "stream",
     "text": [
      "    CustomerID Title FirstName MiddleName  LastName Suffix  \\\n",
      "0        21173   NaN      Chad          C      Yuan    NaN   \n",
      "1        13249   NaN      Ryan        NaN     Perry    NaN   \n",
      "2        29350   NaN     Julia        NaN  Thompson    NaN   \n",
      "3        13503   NaN  Theodore        NaN     Gomez    NaN   \n",
      "4        22803   NaN  Marshall          J      Shan    NaN   \n",
      "5        22092   NaN    Andrea        NaN     Young    NaN   \n",
      "6        11229   NaN    Adrian          C   Stewart    NaN   \n",
      "7        24179   NaN     Robyn          R    Blanco    NaN   \n",
      "8        12127   NaN     Grace        NaN     Davis    NaN   \n",
      "9        19903   NaN    Marcus          N    Nelson    NaN   \n",
      "10       25924   NaN    Hannah        NaN  Robinson    NaN   \n",
      "11       23033   NaN      Alex          J    Turner    NaN   \n",
      "\n",
      "              AddressLine1 AddressLine2          City    StateProvinceName  \\\n",
      "0       7090 C. Mount Hood          NaN    Wollongong      New South Wales   \n",
      "1      3651 Willow Lake Rd          NaN       Shawnee     British Columbia   \n",
      "2   1774 Tice Valley Blvd.          NaN   West Covina           California   \n",
      "3          2103 Baldwin Dr          NaN     Liverpool              England   \n",
      "4          Am Gallberg 234          NaN         Werne  Nordrhein-Westfalen   \n",
      "5        9384 Ashmount Way          NaN        Tacoma           Washington   \n",
      "6            6898 Shaw Rd.          NaN  Redwood City           California   \n",
      "7       6270 Pinecreek Way          NaN  Lavender Bay      New South Wales   \n",
      "8        8188, rue Lamarck          NaN     Dunkerque                 Nord   \n",
      "9      5, rue des Bouchers          NaN          Metz              Moselle   \n",
      "10           536 Beech Ct.          NaN  Redwood City           California   \n",
      "11         9973 Mcnutt Ave          NaN      Lakewood           California   \n",
      "\n",
      "    ...      Occupation Gender MaritalStatus HomeOwnerFlag NumberCarsOwned  \\\n",
      "0   ...        Clerical      M             M             1               3   \n",
      "1   ...        Clerical      M             M             1               2   \n",
      "2   ...        Clerical      F             S             0               3   \n",
      "3   ...  Skilled Manual      M             M             1               2   \n",
      "4   ...  Skilled Manual      M             S             1               1   \n",
      "5   ...  Skilled Manual      F             M             1               2   \n",
      "6   ...          Manual      M             S             1               1   \n",
      "7   ...  Skilled Manual      F             M             0               1   \n",
      "8   ...        Clerical      F             M             1               0   \n",
      "9   ...          Manual      M             S             0               1   \n",
      "10  ...        Clerical      F             S             0               1   \n",
      "11  ...      Management      M             M             1               3   \n",
      "\n",
      "   NumberChildrenAtHome TotalChildren YearlyIncome  LastUpdated  BikeBuyer  \n",
      "0                     0             1        81916   2017-03-06          1  \n",
      "1                     1             2        81076   2017-03-06          1  \n",
      "2                     0             0        86387   2017-03-06          1  \n",
      "3                     1             2        61481   2017-03-06          1  \n",
      "4                     0             0        51804   2017-03-06          1  \n",
      "5                     2             2        61944   2017-03-06          1  \n",
      "6                     0             0        34919   2017-03-06          0  \n",
      "7                     0             0        61832   2017-03-06          1  \n",
      "8                     0             2        83834   2017-03-06          1  \n",
      "9                     0             0        26880   2017-03-06          0  \n",
      "10                    0             0        77258   2017-03-06          0  \n",
      "11                    0             0       102698   2017-03-06          0  \n",
      "\n",
      "[12 rows x 25 columns]\n"
     ]
    }
   ],
   "source": [
    "import pandas as pd\n",
    "import numpy as np\n",
    "from datetime import datetime\n",
    "from sklearn.preprocessing import MinMaxScaler, StandardScaler, OneHotEncoder, KBinsDiscretizer\n",
    "from sklearn.metrics.pairwise import cosine_similarity\n",
    "\n",
    "df = df.merge(sales_df[['CustomerID', 'BikeBuyer']], on='CustomerID', how='left')\n",
    "print(df.head(12))"
   ]
  },
  {
   "cell_type": "code",
   "execution_count": 24,
   "id": "9a60dce2",
   "metadata": {},
   "outputs": [
    {
     "name": "stdout",
     "output_type": "stream",
     "text": [
      "  CountryRegionName   BirthDate        Education      Occupation Gender  \\\n",
      "0         Australia  1987-11-13        Bachelors        Clerical      M   \n",
      "1            Canada  1972-07-21  Partial College        Clerical      M   \n",
      "2     United States  1985-11-09        Bachelors        Clerical      F   \n",
      "3    United Kingdom  1977-10-18  Partial College  Skilled Manual      M   \n",
      "4           Germany  1975-02-05  Partial College  Skilled Manual      M   \n",
      "\n",
      "  MaritalStatus  HomeOwnerFlag  NumberCarsOwned  NumberChildrenAtHome  \\\n",
      "0             M              1                3                     0   \n",
      "1             M              1                2                     1   \n",
      "2             S              0                3                     0   \n",
      "3             M              1                2                     1   \n",
      "4             S              1                1                     0   \n",
      "\n",
      "   TotalChildren  YearlyIncome  BikeBuyer  \n",
      "0              1         81916          1  \n",
      "1              2         81076          1  \n",
      "2              0         86387          1  \n",
      "3              2         61481          1  \n",
      "4              0         51804          1  \n"
     ]
    }
   ],
   "source": [
    "#  Part (a)\n",
    "columns_to_remove = ['Title', 'CustomerID','FirstName','MiddleName','LastName','Suffix', 'AddressLine1', 'AddressLine2','City','StateProvinceName','PhoneNumber', \n",
    "    'LastUpdated','PostalCode']\n",
    "df.drop(columns=columns_to_remove, axis=1, inplace=True)\n",
    "\n",
    "print(df.head(5))"
   ]
  },
  {
   "cell_type": "code",
   "execution_count": 25,
   "id": "b5278377",
   "metadata": {},
   "outputs": [
    {
     "name": "stdout",
     "output_type": "stream",
     "text": [
      "  CountryRegionName        Education      Occupation Gender MaritalStatus  \\\n",
      "0         Australia        Bachelors        Clerical      M             M   \n",
      "1            Canada  Partial College        Clerical      M             M   \n",
      "2     United States        Bachelors        Clerical      F             S   \n",
      "3    United Kingdom  Partial College  Skilled Manual      M             M   \n",
      "\n",
      "   HomeOwnerFlag  NumberCarsOwned  NumberChildrenAtHome  TotalChildren  \\\n",
      "0              1                3                     0              1   \n",
      "1              1                2                     1              2   \n",
      "2              0                3                     0              0   \n",
      "3              1                2                     1              2   \n",
      "\n",
      "   YearlyIncome  BikeBuyer  Age  \n",
      "0         81916          1   38  \n",
      "1         81076          1   53  \n",
      "2         86387          1   40  \n",
      "3         61481          1   48  \n"
     ]
    }
   ],
   "source": [
    "import pandas as pd\n",
    "import numpy as np\n",
    "from datetime import datetime\n",
    "from sklearn.preprocessing import MinMaxScaler, StandardScaler, OneHotEncoder, KBinsDiscretizer\n",
    "from sklearn.metrics.pairwise import cosine_similarity\n",
    "\n",
    "df['BirthDate'] = pd.to_datetime(df['BirthDate'], errors='coerce')\n",
    "current_year = datetime.now().year\n",
    "df['Age'] = current_year - df['BirthDate'].dt.year\n",
    "df.drop(columns=['BirthDate'], inplace=True)\n",
    "print(df.head(4))"
   ]
  },
  {
   "cell_type": "code",
   "execution_count": 26,
   "id": "11d1efce",
   "metadata": {},
   "outputs": [
    {
     "name": "stdout",
     "output_type": "stream",
     "text": [
      "\n",
      "DataFrame shape after feature selection: (18361, 12)\n"
     ]
    }
   ],
   "source": [
    "import pandas as pd\n",
    "import numpy as np\n",
    "from datetime import datetime\n",
    "from sklearn.preprocessing import MinMaxScaler, StandardScaler, OneHotEncoder, KBinsDiscretizer\n",
    "from sklearn.metrics.pairwise import cosine_similarity\n",
    "\n",
    "# (b)\n",
    "selected_features = [\n",
    "    'Gender', 'Age', 'YearlyIncome', 'Education', 'Occupation',\n",
    "    'MaritalStatus', 'HomeOwnerFlag', 'NumberCarsOwned',\n",
    "    'NumberChildrenAtHome', 'TotalChildren', 'CountryRegionName', 'BikeBuyer'\n",
    "]\n",
    "\n",
    "df_selected = df[selected_features].copy()\n",
    "print(\"\\nDataFrame shape after feature selection:\", df_selected.shape)"
   ]
  },
  {
   "cell_type": "code",
   "execution_count": 27,
   "id": "a2028a55",
   "metadata": {},
   "outputs": [
    {
     "name": "stdout",
     "output_type": "stream",
     "text": [
      "\n",
      "Data Value Types:\n",
      "Gender: Discrete (Nominal)\n",
      "Age: Continuous (Ratio)\n",
      "YearlyIncome: Continuous (Ratio)\n",
      "Education: Discrete (Ordinal)\n",
      "Occupation: Discrete (Nominal)\n",
      "MaritalStatus: Discrete (Nominal)\n",
      "HomeOwnerFlag: Discrete (Nominal)\n",
      "NumberCarsOwned: Discrete (Ratio)\n",
      "NumberChildrenAtHome: Discrete (Ratio)\n",
      "TotalChildren: Discrete (Ratio)\n",
      "CountryRegionName: Discrete (Nominal)\n",
      "BikeBuyer: Discrete (Nominal)\n",
      "\n",
      "Sample of selected data:\n",
      "  Gender  Age  YearlyIncome        Education      Occupation MaritalStatus  \\\n",
      "0      M   38         81916        Bachelors        Clerical             M   \n",
      "1      M   53         81076  Partial College        Clerical             M   \n",
      "2      F   40         86387        Bachelors        Clerical             S   \n",
      "3      M   48         61481  Partial College  Skilled Manual             M   \n",
      "4      M   50         51804  Partial College  Skilled Manual             S   \n",
      "\n",
      "   HomeOwnerFlag  NumberCarsOwned  NumberChildrenAtHome  TotalChildren  \\\n",
      "0              1                3                     0              1   \n",
      "1              1                2                     1              2   \n",
      "2              0                3                     0              0   \n",
      "3              1                2                     1              2   \n",
      "4              1                1                     0              0   \n",
      "\n",
      "  CountryRegionName  BikeBuyer  \n",
      "0         Australia          1  \n",
      "1            Canada          1  \n",
      "2     United States          1  \n",
      "3    United Kingdom          1  \n",
      "4           Germany          1  \n"
     ]
    }
   ],
   "source": [
    "import pandas as pd\n",
    "import numpy as np\n",
    "from datetime import datetime\n",
    "from sklearn.preprocessing import MinMaxScaler, StandardScaler, OneHotEncoder, KBinsDiscretizer\n",
    "from sklearn.metrics.pairwise import cosine_similarity\n",
    "\n",
    "# (c)\n",
    "data_types = {\n",
    "    'Gender': ('Discrete', 'Nominal'),\n",
    "    'Age': ('Continuous', 'Ratio'),\n",
    "    'YearlyIncome': ('Continuous', 'Ratio'),\n",
    "    'Education': ('Discrete', 'Ordinal'),\n",
    "    'Occupation': ('Discrete', 'Nominal'),\n",
    "    'MaritalStatus': ('Discrete', 'Nominal'),\n",
    "    'HomeOwnerFlag': ('Discrete', 'Nominal'),\n",
    "    'NumberCarsOwned': ('Discrete', 'Ratio'),\n",
    "    'NumberChildrenAtHome': ('Discrete', 'Ratio'),\n",
    "    'TotalChildren': ('Discrete', 'Ratio'),\n",
    "    'CountryRegionName': ('Discrete', 'Nominal'),\n",
    "    'BikeBuyer': ('Discrete', 'Nominal')\n",
    "}\n",
    "\n",
    "print(\"\\nData Value Types:\")\n",
    "for col, dtype in data_types.items():\n",
    "    print(f\"{col}: {dtype[0]} ({dtype[1]})\")\n",
    "\n",
    "print(f\"\\nSample of selected data:\")\n",
    "print(df_selected.head())"
   ]
  },
  {
   "cell_type": "code",
   "execution_count": 28,
   "id": "8ff52394",
   "metadata": {},
   "outputs": [
    {
     "name": "stdout",
     "output_type": "stream",
     "text": [
      "Shape after removing null values: (18361, 12)\n"
     ]
    }
   ],
   "source": [
    "# Part 2\n",
    "# a\n",
    "df_clean = df_selected.dropna()\n",
    "print(f\"Shape after removing null values: {df_clean.shape}\")"
   ]
  },
  {
   "cell_type": "code",
   "execution_count": 29,
   "id": "c8b0a70d",
   "metadata": {},
   "outputs": [],
   "source": [
    "X = df_clean.drop('BikeBuyer', axis=1)\n",
    "y = df_clean['BikeBuyer']\n",
    "\n",
    "numeric_cols = ['Age', 'YearlyIncome', 'NumberCarsOwned', 'NumberChildrenAtHome', 'TotalChildren']\n",
    "categorical_cols = ['Gender', 'Education', 'Occupation', 'MaritalStatus', 'HomeOwnerFlag', 'CountryRegionName']"
   ]
  },
  {
   "cell_type": "code",
   "execution_count": 30,
   "id": "78600d59",
   "metadata": {},
   "outputs": [
    {
     "name": "stdout",
     "output_type": "stream",
     "text": [
      "\n",
      "Final processed dataset shape: (18361, 23)\n",
      "\n",
      "Processed dataset sample:\n",
      "        Age  YearlyIncome  NumberCarsOwned  NumberChildrenAtHome  \\\n",
      "0 -0.482516      0.298555         1.892524             -0.594371   \n",
      "1  0.851033      0.271180         0.798389              1.163279   \n",
      "2 -0.304710      0.444261         1.892524             -0.594371   \n",
      "3  0.406517     -0.367401         0.798389              1.163279   \n",
      "4  0.584324     -0.682765        -0.295746             -0.594371   \n",
      "\n",
      "   TotalChildren  YearlyIncome_Binned  Gender_M  Education_Graduate Degree  \\\n",
      "0       0.161342                  1.0       1.0                        0.0   \n",
      "1       1.239753                  1.0       1.0                        0.0   \n",
      "2      -0.917069                  2.0       0.0                        0.0   \n",
      "3       1.239753                  1.0       1.0                        0.0   \n",
      "4      -0.917069                  0.0       1.0                        0.0   \n",
      "\n",
      "   Education_High School  Education_Partial College  ...  \\\n",
      "0                    0.0                        0.0  ...   \n",
      "1                    0.0                        1.0  ...   \n",
      "2                    0.0                        0.0  ...   \n",
      "3                    0.0                        1.0  ...   \n",
      "4                    0.0                        1.0  ...   \n",
      "\n",
      "   Occupation_Professional  Occupation_Skilled Manual  MaritalStatus_S  \\\n",
      "0                      0.0                        0.0              0.0   \n",
      "1                      0.0                        0.0              0.0   \n",
      "2                      0.0                        0.0              1.0   \n",
      "3                      0.0                        1.0              0.0   \n",
      "4                      0.0                        1.0              1.0   \n",
      "\n",
      "   HomeOwnerFlag_1  CountryRegionName_Canada  CountryRegionName_France  \\\n",
      "0              1.0                       0.0                       0.0   \n",
      "1              1.0                       1.0                       0.0   \n",
      "2              0.0                       0.0                       0.0   \n",
      "3              1.0                       0.0                       0.0   \n",
      "4              1.0                       0.0                       0.0   \n",
      "\n",
      "   CountryRegionName_Germany  CountryRegionName_United Kingdom  \\\n",
      "0                        0.0                               0.0   \n",
      "1                        0.0                               0.0   \n",
      "2                        0.0                               0.0   \n",
      "3                        0.0                               1.0   \n",
      "4                        1.0                               0.0   \n",
      "\n",
      "   CountryRegionName_United States  BikeBuyer  \n",
      "0                              0.0          1  \n",
      "1                              0.0          1  \n",
      "2                              1.0          1  \n",
      "3                              0.0          1  \n",
      "4                              0.0          1  \n",
      "\n",
      "[5 rows x 23 columns]\n"
     ]
    }
   ],
   "source": [
    "# (b)\n",
    "scaler = MinMaxScaler()\n",
    "X_processed = X.copy()\n",
    "X_processed[numeric_cols] = scaler.fit_transform(X[numeric_cols])\n",
    "\n",
    "# (c)\n",
    "discretizer = KBinsDiscretizer(n_bins=4, encode='ordinal', strategy='uniform')\n",
    "X_processed['YearlyIncome_Binned'] = discretizer.fit_transform(X[['YearlyIncome']])\n",
    "\n",
    "# (d)\n",
    "std_scaler = StandardScaler()\n",
    "X_processed[numeric_cols] = std_scaler.fit_transform(X[numeric_cols])\n",
    "\n",
    "# (e)\n",
    "encoder = OneHotEncoder(drop='first', sparse_output=False)\n",
    "encoded_cat = encoder.fit_transform(X_processed[categorical_cols])\n",
    "encoded_cat_df = pd.DataFrame(\n",
    "    encoded_cat, \n",
    "    columns=encoder.get_feature_names_out(categorical_cols),\n",
    "    index=X_processed.index\n",
    ")\n",
    "X_final = pd.concat([\n",
    "    X_processed.drop(categorical_cols, axis=1),\n",
    "    encoded_cat_df\n",
    "], axis=1)\n",
    "\n",
    "final_df = pd.concat([X_final, y], axis=1)\n",
    "print(f\"\\nFinal processed dataset shape: {final_df.shape}\")\n",
    "print(\"\\nProcessed dataset sample:\")\n",
    "print(final_df.head())"
   ]
  },
  {
   "cell_type": "code",
   "execution_count": 31,
   "id": "f26dd528",
   "metadata": {},
   "outputs": [
    {
     "name": "stdout",
     "output_type": "stream",
     "text": [
      "\n",
      "Processed dataset saved as 'Processed_Dataset.csv'\n"
     ]
    }
   ],
   "source": [
    "final_df.to_csv(\"Processed_Dataset.csv\", index=False)\n",
    "print(\"\\nProcessed dataset saved as 'Processed_Dataset.csv'\")"
   ]
  },
  {
   "cell_type": "code",
   "execution_count": 32,
   "id": "75c0f261",
   "metadata": {},
   "outputs": [
    {
     "name": "stdout",
     "output_type": "stream",
     "text": [
      "\n",
      "Similarity Measures between Object 1 and Object 2:\n",
      "Simple Matching Coefficient: 0.8182\n",
      "Jaccard Similarity: 0.6000\n",
      "Cosine Similarity: 0.4477\n"
     ]
    }
   ],
   "source": [
    "# Part 3\n",
    "# (a)\n",
    "obj1 = final_df.iloc[0].drop('BikeBuyer').values.reshape(1, -1)\n",
    "obj2 = final_df.iloc[1].drop('BikeBuyer').values.reshape(1, -1)\n",
    "binary_obj1 = (final_df.iloc[0].drop('BikeBuyer') > 0).astype(int)\n",
    "binary_obj2 = (final_df.iloc[1].drop('BikeBuyer') > 0).astype(int)\n",
    "\n",
    "# Simple Matching Coefficient\n",
    "matches = sum(binary_obj1 == binary_obj2)\n",
    "simple_matching = matches / len(binary_obj1)\n",
    "\n",
    "# Jaccard Similarity\n",
    "intersection = np.logical_and(binary_obj1, binary_obj2).sum()\n",
    "union = np.logical_or(binary_obj1, binary_obj2).sum()\n",
    "if union == 0:\n",
    "    jaccard_similarity = 0\n",
    "else:\n",
    "    jaccard_similarity = intersection / union\n",
    "\n",
    "# Cosine Similarity\n",
    "cosine_sim = cosine_similarity(obj1, obj2)[0][0]\n",
    "\n",
    "print(\"\\nSimilarity Measures between Object 1 and Object 2:\")\n",
    "print(f\"Simple Matching Coefficient: {simple_matching:.4f}\")\n",
    "print(f\"Jaccard Similarity: {jaccard_similarity:.4f}\")\n",
    "print(f\"Cosine Similarity: {cosine_sim:.4f}\")"
   ]
  },
  {
   "cell_type": "code",
   "execution_count": null,
   "id": "128a61ef",
   "metadata": {},
   "outputs": [],
   "source": []
  }
 ],
 "metadata": {
  "kernelspec": {
   "display_name": "Python 3",
   "language": "python",
   "name": "python3"
  },
  "language_info": {
   "codemirror_mode": {
    "name": "ipython",
    "version": 3
   },
   "file_extension": ".py",
   "mimetype": "text/x-python",
   "name": "python",
   "nbconvert_exporter": "python",
   "pygments_lexer": "ipython3",
   "version": "3.13.1"
  }
 },
 "nbformat": 4,
 "nbformat_minor": 5
}
