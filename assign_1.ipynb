{
 "cells": [
  {
   "cell_type": "code",
   "execution_count": 1,
   "id": "97e9f0b7",
   "metadata": {},
   "outputs": [
    {
     "name": "stdout",
     "output_type": "stream",
     "text": [
      "[5 4 3 2 1]\n"
     ]
    }
   ],
   "source": [
    "import numpy as np \n",
    "arr = np.array([1,2,3,4,5]) \n",
    "rev_array = arr[::-1] \n",
    "print(rev_array)"
   ]
  },
  {
   "cell_type": "code",
   "execution_count": 2,
   "id": "378d96bb",
   "metadata": {},
   "outputs": [
    {
     "name": "stdout",
     "output_type": "stream",
     "text": [
      "[1 2 3 2 4 5 1 2 3]\n"
     ]
    }
   ],
   "source": [
    "arr_2 = np.array([[1,2,3], [2,4,5],[1,2,3]]) \n",
    "flatten = arr_2.flatten() \n",
    "print(flatten)\n"
   ]
  },
  {
   "cell_type": "code",
   "execution_count": 3,
   "id": "85dc5d88",
   "metadata": {},
   "outputs": [
    {
     "name": "stdout",
     "output_type": "stream",
     "text": [
      "[[ True  True]\n",
      " [ True  True]]\n"
     ]
    }
   ],
   "source": [
    "arr_1 = np.array([[1,2], [3,4]]) \n",
    "arr_2 = np.array([[1,2],[3,4]]) \n",
    "print(arr_1==arr_2)\n"
   ]
  },
  {
   "cell_type": "code",
   "execution_count": 4,
   "id": "68d1fca2",
   "metadata": {},
   "outputs": [
    {
     "name": "stdout",
     "output_type": "stream",
     "text": [
      "1\n",
      "1\n"
     ]
    }
   ],
   "source": [
    "x = np.array([1,2,3,4,5,1,2,1,1,1]) \n",
    "counts_x = np.bincount(x) \n",
    "most_freq_x = np.argmax(counts_x) \n",
    "print(most_freq_x)\n",
    "\n",
    "y = np.array([1,1,1,2,3,4,2,4,3,3]) \n",
    "counts_y = np.bincount(x) \n",
    "most_freq_y = np.argmax(counts_y)\n",
    "print(most_freq_y)"
   ]
  },
  {
   "cell_type": "code",
   "execution_count": 7,
   "id": "d0ebc55b",
   "metadata": {},
   "outputs": [
    {
     "name": "stdout",
     "output_type": "stream",
     "text": [
      "50\n",
      "[[14]\n",
      " [21]\n",
      " [15]]\n",
      "[[20  9 21]]\n"
     ]
    }
   ],
   "source": [
    "gfg = np.matrix([[4,1,9],[12,3,6],[4,5,6]])\n",
    "sum = np.sum(gfg)\n",
    "sum_row = np.sum(gfg,axis = 1)\n",
    "sum_col = np.sum(gfg,axis = 0)\n",
    "print(sum)\n",
    "print(sum_row)\n",
    "print(sum_col)"
   ]
  },
  {
   "cell_type": "code",
   "execution_count": 8,
   "id": "846418e1",
   "metadata": {},
   "outputs": [
    {
     "name": "stdout",
     "output_type": "stream",
     "text": [
      "176\n",
      "[98.16835147 28.097044   49.73460452]\n",
      "EigResult(eigenvalues=array([98.16835147, 28.097044  , 49.73460452]), eigenvectors=array([[ 0.4574917 ,  0.34637121, -0.15017693],\n",
      "       [ 0.28447814, -0.72784061, -0.4852124 ],\n",
      "       [ 0.84248058,  0.59184038,  0.8614034 ]]))\n",
      "[[ 0.02404141 -0.00911212 -0.00444671]\n",
      " [-0.01667882  0.02966905  0.0024785 ]\n",
      " [ 0.00631287 -0.01603732  0.01217379]]\n",
      "137180.0000000001\n"
     ]
    }
   ],
   "source": [
    "n_array = np.array([[55,25,15],[30,44,2],[11,45,77]])\n",
    "diagonal_sum_array = np.trace(n_array)\n",
    "eigen_vals = np.linalg.eigvals(n_array)\n",
    "eigen_vecs = np.linalg.eig(n_array)\n",
    "inv_array = np.linalg.inv(n_array)\n",
    "det_array = np.linalg.det(n_array)\n",
    "print(diagonal_sum_array)\n",
    "print(eigen_vals)\n",
    "print(eigen_vecs)\n",
    "print(inv_array)\n",
    "print(det_array)"
   ]
  },
  {
   "cell_type": "code",
   "execution_count": 13,
   "id": "e8beb76d",
   "metadata": {},
   "outputs": [
    {
     "name": "stdout",
     "output_type": "stream",
     "text": [
      "[[16 19]\n",
      " [26 31]]\n",
      "[[0.66666667 1.        ]\n",
      " [1.         1.66666667]]\n",
      "[[16 19  5]\n",
      " [26 31  8]\n",
      " [46 55 14]]\n",
      "[[2.16666667 0.23333333]\n",
      " [0.23333333 5.36666667]]\n"
     ]
    }
   ],
   "source": [
    "p = np.array([[1,2],[2,3]])\n",
    "q = np.array([[4,5],[6,7]])\n",
    "p_flat = p.flatten()\n",
    "q_flat = q.flatten()\n",
    "multiply_pq = np.dot(p,q)\n",
    "cov_pq = np.cov(p_flat,q_flat)\n",
    "print(multiply_pq)\n",
    "print(cov_pq)\n",
    "\n",
    "r = np.array([[1,2],[2,3],[4,5]])\n",
    "s = np.array([[4,5,1],[6,7,2]])\n",
    "r_flat = r.flatten()\n",
    "s_flat = s.flatten()\n",
    "multiply_rs = np.dot(r,s)\n",
    "cov_rs = np.cov(r_flat,s_flat)\n",
    "print(multiply_rs)\n",
    "print(cov_rs)"
   ]
  },
  {
   "cell_type": "code",
   "execution_count": null,
   "id": "f59c14e1",
   "metadata": {},
   "outputs": [
    {
     "name": "stdout",
     "output_type": "stream",
     "text": [
      "[[[ 2  3  4]\n",
      "  [ 1  5  0]]\n",
      "\n",
      " [[ 2  3  4]\n",
      "  [ 5 10  3]]\n",
      "\n",
      " [[ 3  2  9]\n",
      "  [ 1  5  0]]\n",
      "\n",
      " [[ 3  2  9]\n",
      "  [ 5 10  3]]]\n",
      "Inner Product:\n",
      "[[17 52]\n",
      " [13 62]]\n",
      "Outer Product:\n",
      "[[ 2 10  0 10 20  6]\n",
      " [ 3 15  0 15 30  9]\n",
      " [ 4 20  0 20 40 12]\n",
      " [ 3 15  0 15 30  9]\n",
      " [ 2 10  0 10 20  6]\n",
      " [ 9 45  0 45 90 27]]\n"
     ]
    }
   ],
   "source": [
    "from itertools import product\n",
    "p = np.array([[2,3,4],[3,2,9]])\n",
    "q = np.array([[1,5,0],[5,10,3]])\n",
    "inner_pq = np.inner(p,q)\n",
    "outer_pq = np.outer(p,q)\n",
    "cartisian_product = np.array(list(product(p,q)))\n",
    "print(\"Cartesian Produc:\")\n",
    "print(cartisian_product)\n",
    "print(\"Inner Product:\")\n",
    "print(inner_pq)\n",
    "print(\"Outer Product:\")\n",
    "print(outer_pq)"
   ]
  },
  {
   "cell_type": "code",
   "execution_count": 30,
   "id": "2ca6aa0e",
   "metadata": {},
   "outputs": [
    {
     "name": "stdout",
     "output_type": "stream",
     "text": [
      "Absolute:Value:\n",
      "[[1 2 3]\n",
      " [4 5 6]]\n",
      "25th-Quartile: -3.5\n",
      "50th-Quartile: -0.5\n",
      "75th-Quartile: 2.5\n",
      "Mean: -0.5\n",
      "Median: -0.5\n",
      "Mode: 3.8622100754188224\n",
      "Mean about column: [-1.5  1.5 -1.5]\n",
      "Median about column: [-1.5  1.5 -1.5]\n",
      "Mode about column: [2.5 3.5 4.5]\n",
      "Mean about row: [ 0.66666667 -1.66666667]\n",
      "Median about row: [ 1. -4.]\n",
      "Mode about row: [2.05480467 4.78423336]\n"
     ]
    }
   ],
   "source": [
    "array = np.array([[1,-2,3],[-4,5,-6]])\n",
    "abs_values = np.abs(array)\n",
    "print(\"Absolute:Value:\")\n",
    "print(abs_values)\n",
    "\n",
    "flattened_array = array.flatten()\n",
    "\n",
    "quartile_25 = np.percentile(flattened_array,25)\n",
    "quartile_50 = np.percentile(flattened_array,50)\n",
    "quartile_75 = np.percentile(flattened_array,75)\n",
    "\n",
    "print(\"25th-Quartile:\",quartile_25)\n",
    "print(\"50th-Quartile:\",quartile_50)\n",
    "print(\"75th-Quartile:\",quartile_75)\n",
    "\n",
    "mean = np.mean(flattened_array)\n",
    "median= np.median(flattened_array)\n",
    "std = np.std(flattened_array)\n",
    "\n",
    "print(\"Mean:\",mean)\n",
    "print(\"Median:\",median)\n",
    "print(\"Mode:\",std)\n",
    "\n",
    "# about each column axis= 0\n",
    "mean_axis_0 = np.mean(array,axis=0)\n",
    "median_axis_0= np.median(array,axis = 0)\n",
    "std_axis_0 = np.std(array,axis = 0)\n",
    "\n",
    "print(\"Mean about column:\",mean_axis_0)\n",
    "print(\"Median about column:\",median_axis_0)\n",
    "print(\"Mode about column:\",std_axis_0)\n",
    "\n",
    "# about each row axis= 1\n",
    "mean_axis_1 = np.mean(array,axis=1)\n",
    "median_axis_1= np.median(array,axis = 1)\n",
    "std_axis_1 = np.std(array,axis = 1)\n",
    "\n",
    "print(\"Mean about row:\",mean_axis_1)\n",
    "print(\"Median about row:\",median_axis_1)\n",
    "print(\"Mode about row:\",std_axis_1)\n",
    "\n"
   ]
  },
  {
   "cell_type": "code",
   "execution_count": 33,
   "id": "8559637f",
   "metadata": {},
   "outputs": [
    {
     "name": "stdout",
     "output_type": "stream",
     "text": [
      "Floor: [[-2. -2. -1.  0.  1.  1.  3.]]\n",
      "Ceil: [[-1. -1. -0.  1.  2.  2.  3.]]\n",
      "Truncated Values: [[-1. -1. -0.  0.  1.  1.  3.]]\n",
      "Rounded Value: [[-2. -2. -0.  0.  2.  2.  3.]]\n"
     ]
    }
   ],
   "source": [
    "a = np.array([[-1.8,-1.6,-0.5,0.5,1.6,1.8,3.0]])\n",
    "floor = np.floor(a)\n",
    "ceil = np.ceil(a)\n",
    "trunc = np.trunc(a)\n",
    "round = np.round(a)\n",
    "print(\"Floor:\",floor)\n",
    "print(\"Ceil:\",ceil)\n",
    "print(\"Truncated Values:\",trunc)\n",
    "print(\"Rounded Value:\",round)"
   ]
  },
  {
   "cell_type": "code",
   "execution_count": 38,
   "id": "3caed85c",
   "metadata": {},
   "outputs": [
    {
     "name": "stdout",
     "output_type": "stream",
     "text": [
      "[ 10  16  16  52  54  62 453]\n",
      "[0 3 4 1 5 2 6]\n",
      "[453  62  54  52  16]\n",
      "[10 16 16 52]\n",
      "[1 1 2 2 3 2]\n",
      "[1.  1.2 2.2 2.  3.  2. ]\n"
     ]
    }
   ],
   "source": [
    "array = np.array([10,52,62,16,16,54,453])\n",
    "sorted_array = np.sort(array)\n",
    "indices = np.argsort(array)\n",
    "largest_5_ele = sorted_array[-1:-6:-1]\n",
    "smallest_4_ele = sorted_array[:4]\n",
    "print(sorted_array)\n",
    "print(indices)\n",
    "print(largest_5_ele)\n",
    "print(smallest_4_ele)\n",
    "\n",
    "array_2 = np.array([1.0,1.2,2.2,2.0,3.0,2.0])\n",
    "int_elements = np.astype(array_2,int)\n",
    "print(int_elements)\n",
    "print(array_2)\n"
   ]
  },
  {
   "cell_type": "code",
   "execution_count": null,
   "id": "7df52d3c",
   "metadata": {},
   "outputs": [],
   "source": []
  }
 ],
 "metadata": {
  "kernelspec": {
   "display_name": "Python 3",
   "language": "python",
   "name": "python3"
  },
  "language_info": {
   "codemirror_mode": {
    "name": "ipython",
    "version": 3
   },
   "file_extension": ".py",
   "mimetype": "text/x-python",
   "name": "python",
   "nbconvert_exporter": "python",
   "pygments_lexer": "ipython3",
   "version": "3.13.1"
  }
 },
 "nbformat": 4,
 "nbformat_minor": 5
}
